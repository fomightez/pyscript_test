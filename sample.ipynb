
<!DOCTYPE html>
<html>
<head>
  <meta content="width=device-width, initial-scale=1, maximum-scale=1" name="viewport">
  <title>Checking your Browser - GitLab</title>
  <style>body{align-items:center;color:#666;display:flex;flex-direction:column;font-family:Helvetica Neue,Helvetica,Arial,sans-serif;font-size:14px;justify-content:center;margin:auto;text-align:center}hr{border:0;border-bottom:1px solid #fff;border-top:1px solid #eee;margin:18px auto;max-width:800px}img{max-width:40vw}.container{margin:auto 20px}.cferror_details{list-style-type:none}.cf-error-details h1{color:#456;font-size:20px;font-weight:400;line-height:28px}</style>
  <meta http-equiv="refresh" content="35">
  <script>
    //<![CDATA[
    (function(){
      
      window._cf_chl_opt={
        cvId: "2",
        cType: "non-interactive",
        cNounce: "44049",
        cRay: "70634c945c34068c",
        cHash: "074774bbdc5ac50",
        cUPMDTk: "\/users\/sign_in?__cf_chl_tk=U3BA.eUVGg30llNcBVFGZJvSoNRpEo6BxcVkfpXuu3E-1651688937-0-gaNycGzNCv0",
        cFPWv: "g",
        cTTimeMs: "1000",
        cRq: {
          ru: "aHR0cHM6Ly9naXRsYWIuY29tL3VzZXJzL3NpZ25faW4=",
          ra: "TW96aWxsYS81LjAgKE1hY2ludG9zaDsgSW50ZWwgTWFjIE9TIFggMTBfMTVfNykgQXBwbGVXZWJLaXQvNTM3LjM2IChLSFRNTCwgbGlrZSBHZWNrbykgQ2hyb21lLzEwMC4wLjQ4OTYuMTI3IFNhZmFyaS81MzcuMzY=",
          rm: "R0VU",
          d: "lHxCaRAxGWnGJDdUDf5y8+sXrEYQBBBLtTl19CO8cQmP8ND3evAj/SaWjGXFD9zQUYyjBswTcpT/8b4Y9+CHOiXyB3GU7UjvyADi2MNDkrIwwJy08YAjniD7ww13gUYQEqA1pQMImdloYGi6SzPHq80kl5XB5UHPk64TbmMLStVr78hnhSvDY6c0fV/0Z2FuIrKbhVcKwabj0sIslU9TLytvJp8bTEJ7/yfLyopUV5W1XrgRG0hOqWT2cQPn0MtQmz0f2hYv6cxSxqUcHtk3YmLi/RWMXdfLXQ2bkTRqcQsaSx1ooZSewFY7z9aCTh7mBterxfV/ecphSO9nW/3INSq6jfSp2bhmxQ0P5PSQxVvBRbVO6BR2MKFXg1iFysh4nUrdbF4mIAOVF7srE5j3bt8gI+dKBxgBVLhicn9ZYnBSWvOa4XR+6b+hPFISrroNnlkq/2uH/SL3moJDDlq62FiuUEl9uSFwugAvHC0a/ICKhgnzQsFcPUD0FD9k0KkqXUVVXS2aMnJtmaGsE60ROt3gLM319CWY4y3LJzGw2fqz2jqy3geHt9OwXnEJpQD0",
          t: "MTY1MTY4ODkzNy42NTUwMDA=",
          m: "P1E69uW3uJF1swvgsdMkw6pQJ2jpuaaOP1JgY6ZN5Ic=",
          i1: "lSAcIIPcQwuxip1SrRGLnQ==",
          i2: "QSZMkOMDGIkDJRc0V/D3wQ==",
          zh: "UnJDyo9FrWqFHAM0dnr3Qrw4Ll86sU7CDCiveOM3u04=",
          uh: "zuKYBbGhBTZtbtCLdJThty38AyPk1CtkE3hJOHOd6JA=",
          hh: "lGQbzypQ55vDVgAzrKu7GNtEf1PrcZK3oqezycJ79vw=",
        }
      }
      window._cf_chl_enter = function(){window._cf_chl_opt.p=1};
      
    })();
    //]]>
  </script>
  
</head>

<body>
  <h1>
    <img src="data:image/svg+xml;base64,PHN2ZyB3aWR0aD0iMjAwIiBoZWlnaHQ9IjE5MiIgdmlld0JveD0iMCAwIDI1IDI0IiBmaWxsPSJub25lIiB4bWxucz0iaHR0cDovL3d3dy53My5vcmcvMjAwMC9zdmciPgogIDxwYXRoIGQ9Im0yNC41MDcgOS41LS4wMzQtLjA5TDIxLjA4Mi41NjJhLjg5Ni44OTYgMCAwIDAtMS42OTQuMDkxbC0yLjI5IDcuMDFINy44MjVMNS41MzUuNjUzYS44OTguODk4IDAgMCAwLTEuNjk0LS4wOUwuNDUxIDkuNDExLjQxNiA5LjVhNi4yOTcgNi4yOTcgMCAwIDAgMi4wOSA3LjI3OGwuMDEyLjAxLjAzLjAyMiA1LjE2IDMuODY3IDIuNTYgMS45MzUgMS41NTQgMS4xNzZhMS4wNTEgMS4wNTEgMCAwIDAgMS4yNjggMGwxLjU1NS0xLjE3NiAyLjU2LTEuOTM1IDUuMTk3LTMuODkuMDE0LS4wMUE2LjI5NyA2LjI5NyAwIDAgMCAyNC41MDcgOS41WiIKICAgICAgICBmaWxsPSIjRTI0MzI5Ii8+CiAgPHBhdGggZD0ibTI0LjUwNyA5LjUtLjAzNC0uMDlhMTEuNDQgMTEuNDQgMCAwIDAtNC41NiAyLjA1MWwtNy40NDcgNS42MzIgNC43NDIgMy41ODQgNS4xOTctMy44OS4wMTQtLjAxQTYuMjk3IDYuMjk3IDAgMCAwIDI0LjUwNyA5LjVaIgogICAgICAgIGZpbGw9IiNGQzZEMjYiLz4KICA8cGF0aCBkPSJtNy43MDcgMjAuNjc3IDIuNTYgMS45MzUgMS41NTUgMS4xNzZhMS4wNTEgMS4wNTEgMCAwIDAgMS4yNjggMGwxLjU1NS0xLjE3NiAyLjU2LTEuOTM1LTQuNzQzLTMuNTg0LTQuNzU1IDMuNTg0WiIKICAgICAgICBmaWxsPSIjRkNBMzI2Ii8+CiAgPHBhdGggZD0iTTUuMDEgMTEuNDYxYTExLjQzIDExLjQzIDAgMCAwLTQuNTYtMi4wNUwuNDE2IDkuNWE2LjI5NyA2LjI5NyAwIDAgMCAyLjA5IDcuMjc4bC4wMTIuMDEuMDMuMDIyIDUuMTYgMy44NjcgNC43NDUtMy41ODQtNy40NDQtNS42MzJaIgogICAgICAgIGZpbGw9IiNGQzZEMjYiLz4KPC9zdmc+Cg==" alt="GitLab" /><br />
  </h1>
  <div class="container">
    <div class="cf-browser-verification cf-im-under-attack">
  <noscript>
    <h1 data-translate="turn_on_js" style="color:#bd2426;">Please turn JavaScript on and reload the page.</h1>
  </noscript>
  <div id="cf-content" style="display:none">
    
    <div id="cf-bubbles">
      <div class="bubbles"></div>
      <div class="bubbles"></div>
      <div class="bubbles"></div>
    </div>
    <h1><span data-translate="checking_browser">Checking your browser before accessing</span> gitlab.com.</h1>
    
    <div id="no-cookie-warning" class="cookie-warning" data-translate="turn_on_cookies" style="display:none">
      <p data-translate="turn_on_cookies" style="color:#bd2426;">Please enable Cookies and reload the page.</p>
    </div>
    <p data-translate="process_is_automatic">This process is automatic. Your browser will redirect to your requested content shortly.</p>
    <p data-translate="allow_5_secs" id="cf-spinner-allow-5-secs" >Please allow up to 5 seconds&hellip;</p>
    <p data-translate="redirecting" id="cf-spinner-redirecting" style="display:none">Redirecting&hellip;</p>
  </div>
   
  <form class="challenge-form" id="challenge-form" action="/users/sign_in?__cf_chl_f_tk=U3BA.eUVGg30llNcBVFGZJvSoNRpEo6BxcVkfpXuu3E-1651688937-0-gaNycGzNCv0" method="POST" enctype="application/x-www-form-urlencoded">
    <input type="hidden" name="md" value="A.2OgMMqeez6mMP_Q3L5CZ2CIAzTNySY4aMghEdS9iw-1651688937-0-AWQ52yNZXd2zke_j-_q-DLs1npNiQ29bV65_id88aM0TlpBpWOG5PWNWNK6W6sBk4VXtO_2aX8OegyUnDz1Q6_4-8JJlUiS-Jn8eC0Ia0nGl6KRFCVZ3lCvi_1qZ5woNuMhHcI1PKkO23wHRiYNb4fghH5_7K2UK6oHE4JFUvhSyiW09tgdHkAuKAE3aMJim1s5foztJfrUD2kwQsk9WO8UKd2kXdJSCGwzpi0S42D-3VNXh29FXva0h_hJtmUp3gl5bGd5_-MaO14aSpl3VTpu1ZVvDUXzdQFpCY2qvq8k204rYzYFvb_FgpI2E0RW6RR-mKcTvqRdqf_i7cqE7g9Pqjh_RvUoykqcSwyFLcIjeei2c49bNA_Wim-QXvNJgCCW_-02tpBZld0OtihGPK5hYdPk_oASU_MUwIZkW_kX0GlVH7Es3oE4z7B3fHITBb_4VUH_QqvRQwMvtV2_O6iH7FaKgeeBlqb2p8rMhWcoF6OxCEjL0XP52MXu9li9fvU0jxRIgjUQVbedvbtvOV1V3Hr-5GL6HSRzx09oqoAo1sAf3yO1TGfdBslTrEcoKHpuqlzfLvK1smXVQM0-hFJcnZhxM2c4fF0cIRkBc_k95TLhQ7xLMF-PlLLpBNwz9QZeYAUhsamFmTzFPTgHOHdQ" />
    <input type="hidden" name="r" value="UUNtnT4Lkd6c2tKtKlXzq7iRqysXooBV6voeanMR6dc-1651688937-0-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"/>
    <input type="hidden" value="22e21f30ac9b0c1088d7cc57c62e0c76" id="jschl-vc" name="jschl_vc"/>
    <!-- <input type="hidden" value="" id="jschl-vc" name="jschl_vc"/> -->
    <input type="hidden" name="pass" value="1651688938.655-1F5Tcq05X8"/>
    <input type="hidden" id="jschl-answer" name="jschl_answer"/>
  </form>
     
    <script>
      //<![CDATA[
      (function(){
          var a = document.getElementById('cf-content');
          a.style.display = 'block';
          var isIE = /(MSIE|Trident\/|Edge\/)/i.test(window.navigator.userAgent);
          var trkjs = isIE ? new Image() : document.createElement('img');
          trkjs.setAttribute("src", "/cdn-cgi/images/trace/jschal/js/transparent.gif?ray=70634c945c34068c");
          trkjs.id = "trk_jschal_js";
          trkjs.setAttribute("alt", "");
          document.body.appendChild(trkjs);
          var cpo=document.createElement('script');
          cpo.type='text/javascript';
          cpo.src="/cdn-cgi/challenge-platform/h/g/orchestrate/jsch/v1?ray=70634c945c34068c";
          
          window._cf_chl_opt.cOgUQuery = location.search === '' && location.href.indexOf('?') !== -1 ? '?' : location.search;
          window._cf_chl_opt.cOgUHash = location.hash === '' && location.href.indexOf('#') !== -1 ? '#' : location.hash;
          if (window._cf_chl_opt.cUPMDTk && window.history && window.history.replaceState) {
            var ogU = location.pathname + window._cf_chl_opt.cOgUQuery + window._cf_chl_opt.cOgUHash;
            history.replaceState(null, null, "\/users\/sign_in?__cf_chl_rt_tk=U3BA.eUVGg30llNcBVFGZJvSoNRpEo6BxcVkfpXuu3E-1651688937-0-gaNycGzNCv0" + window._cf_chl_opt.cOgUHash);
            cpo.onload = function() {
              history.replaceState(null, null, ogU);
            };
          }
          
          document.getElementsByTagName('head')[0].appendChild(cpo);
        }());
      //]]>
    </script>
  

  
  <div id="trk_jschal_nojs" style="background-image:url('/cdn-cgi/images/trace/jschal/nojs/transparent.gif?ray=70634c945c34068c')"> </div>
</div>

    <hr />
  </div>
</body>
</html>
