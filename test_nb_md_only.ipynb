{
 "cells": [
  {
   "cell_type": "markdown",
   "metadata": {},
   "source": [
    "# 3D surface plots in Python demonstration notebooks\n",
    "\n",
    "My collection demonstrating useful 3D surface plots, associated visualizations, and interfaces for adjusting the surface plots implemented in Python/Jupyter.  \n",
    "\n",
    "\n",
    "-----\n",
    "\n",
    "Select a notebook from the list below:\n",
    "\n",
    "\n",
    "### Available Demonstration Notebooks\n",
    "\n",
    "- [3D surface plots via Plotnine](Plotnine3d-surface-plots.ipynb)\n",
    "- [3D surface plots via k3d](k3d_surface_examples.ipynb)\n",
    "\n",
    "### Coming soon / available at another link\n",
    "\n",
    "- ???????\n",
    "\n",
    "    There is a related notebook available from ????\n",
    "    \n",
    "----\n",
    "    \n",
    "----    \n"
   ]
  }
 ],
 "metadata": {
  "kernelspec": {
   "display_name": "Python 3",
   "language": "python",
   "name": "python3"
  },
  "language_info": {
   "codemirror_mode": {
    "name": "ipython",
    "version": 3
   },
   "file_extension": ".py",
   "mimetype": "text/x-python",
   "name": "python",
   "nbconvert_exporter": "python",
   "pygments_lexer": "ipython3",
   "version": "3.7.6"
  }
 },
 "nbformat": 4,
 "nbformat_minor": 2
}
